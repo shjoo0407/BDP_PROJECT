{
 "cells": [
  {
   "cell_type": "code",
   "execution_count": 1,
   "metadata": {
    "id": "wVjX4zecx9r2"
   },
   "outputs": [],
   "source": [
    "# import\n",
    "import pandas as pd\n",
    "import numpy as np\n",
    "# import seaborn as sns\n",
    "import matplotlib.pyplot as plt\n"
   ]
  },
  {
   "cell_type": "code",
   "execution_count": 3,
   "metadata": {
    "colab": {
     "base_uri": "https://localhost:8080/"
    },
    "id": "JrqY1-oUyJSK",
    "outputId": "030888e3-0878-477e-97c2-1d85729cd432"
   },
   "outputs": [
    {
     "name": "stderr",
     "output_type": "stream",
     "text": [
      "/var/folders/qy/_42009_n085fc984bjdc5v580000gn/T/ipykernel_1825/1931876371.py:3: DtypeWarning: Columns (5,7) have mixed types. Specify dtype option on import or set low_memory=False.\n",
      "  data = pd.read_csv(\"/Users/janghyun/Desktop/BDP/data/대여이력 정보/data/data2020.csv\", index_col=0)\n"
     ]
    }
   ],
   "source": [
    "#2020년 기준으로 진행하였다. 이후 data만 바꿔서 2021년, 2022년 진행.\n",
    "\n",
    "data = pd.read_csv(\"/Users/janghyun/Desktop/BDP/data/대여이력 정보/data/data2020.csv\", index_col=0)\n",
    "\n",
    "\n"
   ]
  },
  {
   "cell_type": "code",
   "execution_count": 5,
   "metadata": {
    "id": "09M88VnyyQJZ"
   },
   "outputs": [],
   "source": [
    "#필요없는 column들은 삭제\n",
    "data.drop(['대여소번호','대여거치대','반납대여소번호','반납거치대'],axis=1,inplace=True)\n"
   ]
  },
  {
   "cell_type": "markdown",
   "metadata": {
    "id": "CMk2Ntva6hfO"
   },
   "source": [
    "이상치 삭제 (임의로 작성)"
   ]
  },
  {
   "cell_type": "code",
   "execution_count": 6,
   "metadata": {
    "id": "nfdzxBVGySTS"
   },
   "outputs": [],
   "source": [
    "#이용시간이 0인 데이터들은 삭제.\n",
    "drop_idx = data[data['이용시간']==0].index\n",
    "data.drop(drop_idx,inplace = True)\n"
   ]
  },
  {
   "cell_type": "code",
   "execution_count": 7,
   "metadata": {
    "id": "eUMhoyHa54Ht"
   },
   "outputs": [],
   "source": [
    "#대여소명과 반납소명이 같으면서 이용시간이 30분 미만인 데이터들은 모두 이용거리가 0이었다 -> 삭제\n",
    "error_data = data[(data['대여대여소명']==data['반납대여소명'])&(data['이용시간']<20)].index\n",
    "data.drop(error_data,inplace=True)"
   ]
  },
  {
   "cell_type": "code",
   "execution_count": 8,
   "metadata": {
    "id": "Pqx4_WPx6AdF"
   },
   "outputs": [],
   "source": [
    "#이용시간이 10분 이하이면서 이용거리가 5000m 넘는 것들은 이상치라고 판단하고 삭제한다.\n",
    "error_data2 = data[(data['이용시간']<10)&(data['이용거리']>5000)].sort_values('이용거리').index\n",
    "data.drop(error_data2,inplace=True)"
   ]
  },
  {
   "cell_type": "code",
   "execution_count": 9,
   "metadata": {
    "colab": {
     "base_uri": "https://localhost:8080/"
    },
    "id": "vXAXddyDa9vd",
    "outputId": "5e7eed89-f71f-4772-a7b3-c794c4f249ef"
   },
   "outputs": [
    {
     "data": {
      "text/plain": [
       "자전거번호      0\n",
       "대여일시       0\n",
       "대여대여소명     0\n",
       "반납일시       0\n",
       "반납대여소명     0\n",
       "이용시간       0\n",
       "이용거리      84\n",
       "dtype: int64"
      ]
     },
     "execution_count": 9,
     "metadata": {},
     "output_type": "execute_result"
    }
   ],
   "source": [
    "data.isnull().sum()\n"
   ]
  },
  {
   "cell_type": "code",
   "execution_count": 11,
   "metadata": {
    "id": "JaDUmktn3XYG"
   },
   "outputs": [],
   "source": [
    "# 이용거리가 0인 것들 다 NaN으로 바꿔준다.\n",
    "\n",
    "data['이용거리'] = data['이용거리'].replace(0,np.NaN)"
   ]
  },
  {
   "cell_type": "code",
   "execution_count": 12,
   "metadata": {
    "colab": {
     "base_uri": "https://localhost:8080/"
    },
    "id": "KFNDiwnU3fQK",
    "outputId": "aaa24771-412c-4dba-f1c6-97625598251b"
   },
   "outputs": [
    {
     "data": {
      "text/plain": [
       "자전거번호            0\n",
       "대여일시             0\n",
       "대여대여소명           0\n",
       "반납일시             0\n",
       "반납대여소명           0\n",
       "이용시간             0\n",
       "이용거리      13517597\n",
       "dtype: int64"
      ]
     },
     "execution_count": 12,
     "metadata": {},
     "output_type": "execute_result"
    }
   ],
   "source": [
    "data.isnull().sum()"
   ]
  },
  {
   "cell_type": "code",
   "execution_count": 13,
   "metadata": {},
   "outputs": [
    {
     "data": {
      "text/html": [
       "<div>\n",
       "<style scoped>\n",
       "    .dataframe tbody tr th:only-of-type {\n",
       "        vertical-align: middle;\n",
       "    }\n",
       "\n",
       "    .dataframe tbody tr th {\n",
       "        vertical-align: top;\n",
       "    }\n",
       "\n",
       "    .dataframe thead th {\n",
       "        text-align: right;\n",
       "    }\n",
       "</style>\n",
       "<table border=\"1\" class=\"dataframe\">\n",
       "  <thead>\n",
       "    <tr style=\"text-align: right;\">\n",
       "      <th></th>\n",
       "      <th>자전거번호</th>\n",
       "      <th>대여일시</th>\n",
       "      <th>대여대여소명</th>\n",
       "      <th>반납일시</th>\n",
       "      <th>반납대여소명</th>\n",
       "      <th>이용시간</th>\n",
       "      <th>이용거리</th>\n",
       "    </tr>\n",
       "  </thead>\n",
       "  <tbody>\n",
       "    <tr>\n",
       "      <th>0</th>\n",
       "      <td>SPB-19866</td>\n",
       "      <td>2020.5.1 0:01</td>\n",
       "      <td>기업은행 앞</td>\n",
       "      <td>2020.5.1 0:03</td>\n",
       "      <td>방학사거리 (봄마당 앞)</td>\n",
       "      <td>1.0</td>\n",
       "      <td>330.0</td>\n",
       "    </tr>\n",
       "    <tr>\n",
       "      <th>3</th>\n",
       "      <td>SPB-13624</td>\n",
       "      <td>2020.5.1 0:01</td>\n",
       "      <td>영동3교 북단(우성캐릭터 앞 보도)</td>\n",
       "      <td>2020.5.1 0:04</td>\n",
       "      <td>3호선 매봉역 3번출구앞</td>\n",
       "      <td>2.0</td>\n",
       "      <td>NaN</td>\n",
       "    </tr>\n",
       "    <tr>\n",
       "      <th>4</th>\n",
       "      <td>SPB-32740</td>\n",
       "      <td>2020.5.1 0:00</td>\n",
       "      <td>녹번역 4번출구</td>\n",
       "      <td>2020.5.1 0:05</td>\n",
       "      <td>신한은행 응암동 지점 앞</td>\n",
       "      <td>5.0</td>\n",
       "      <td>NaN</td>\n",
       "    </tr>\n",
       "    <tr>\n",
       "      <th>5</th>\n",
       "      <td>SPB-32384</td>\n",
       "      <td>2020.5.1 0:00</td>\n",
       "      <td>잠원역 3번-4번 출구사이</td>\n",
       "      <td>2020.5.1 0:05</td>\n",
       "      <td>한신16차아파트 119동 앞</td>\n",
       "      <td>5.0</td>\n",
       "      <td>NaN</td>\n",
       "    </tr>\n",
       "    <tr>\n",
       "      <th>6</th>\n",
       "      <td>SPB-33241</td>\n",
       "      <td>2020.5.1 0:00</td>\n",
       "      <td>대모산입구역 2번출구 앞</td>\n",
       "      <td>2020.5.1 0:05</td>\n",
       "      <td>대청역 1번출구  뒤</td>\n",
       "      <td>5.0</td>\n",
       "      <td>NaN</td>\n",
       "    </tr>\n",
       "    <tr>\n",
       "      <th>...</th>\n",
       "      <td>...</td>\n",
       "      <td>...</td>\n",
       "      <td>...</td>\n",
       "      <td>...</td>\n",
       "      <td>...</td>\n",
       "      <td>...</td>\n",
       "      <td>...</td>\n",
       "    </tr>\n",
       "    <tr>\n",
       "      <th>20866025</th>\n",
       "      <td>SPB-13688</td>\n",
       "      <td>2020.1.31 23:45</td>\n",
       "      <td>증산3교 앞</td>\n",
       "      <td>2020.1.31 23:59</td>\n",
       "      <td>증산교 앞</td>\n",
       "      <td>13.0</td>\n",
       "      <td>NaN</td>\n",
       "    </tr>\n",
       "    <tr>\n",
       "      <th>20866026</th>\n",
       "      <td>SPB-22994</td>\n",
       "      <td>2020.1.31 23:35</td>\n",
       "      <td>명물길 원형무대 앞</td>\n",
       "      <td>2020.1.31 23:59</td>\n",
       "      <td>홍은동 정원여중 입구</td>\n",
       "      <td>21.0</td>\n",
       "      <td>3670.0</td>\n",
       "    </tr>\n",
       "    <tr>\n",
       "      <th>20866027</th>\n",
       "      <td>SPB-08546</td>\n",
       "      <td>2020.1.31 23:41</td>\n",
       "      <td>보라매 두산위브 건너편</td>\n",
       "      <td>2020.1.31 23:59</td>\n",
       "      <td>봉천역 2번출구</td>\n",
       "      <td>17.0</td>\n",
       "      <td>3140.0</td>\n",
       "    </tr>\n",
       "    <tr>\n",
       "      <th>20866028</th>\n",
       "      <td>SPB-13247</td>\n",
       "      <td>2020.1.31 23:52</td>\n",
       "      <td>수서역 5번출구 뒤</td>\n",
       "      <td>2020.1.31 23:59</td>\n",
       "      <td>문정2동 주민센터</td>\n",
       "      <td>6.0</td>\n",
       "      <td>860.0</td>\n",
       "    </tr>\n",
       "    <tr>\n",
       "      <th>20866029</th>\n",
       "      <td>SPB-06034</td>\n",
       "      <td>2020.1.31 23:55</td>\n",
       "      <td>신설동역 11번출구 뒤</td>\n",
       "      <td>2020.1.31 23:59</td>\n",
       "      <td>동묘앞역 1번출구 뒤</td>\n",
       "      <td>3.0</td>\n",
       "      <td>700.0</td>\n",
       "    </tr>\n",
       "  </tbody>\n",
       "</table>\n",
       "<p>20354012 rows × 7 columns</p>\n",
       "</div>"
      ],
      "text/plain": [
       "              자전거번호             대여일시               대여대여소명             반납일시  \\\n",
       "0         SPB-19866    2020.5.1 0:01               기업은행 앞    2020.5.1 0:03   \n",
       "3         SPB-13624    2020.5.1 0:01  영동3교 북단(우성캐릭터 앞 보도)    2020.5.1 0:04   \n",
       "4         SPB-32740    2020.5.1 0:00             녹번역 4번출구    2020.5.1 0:05   \n",
       "5         SPB-32384    2020.5.1 0:00       잠원역 3번-4번 출구사이    2020.5.1 0:05   \n",
       "6         SPB-33241    2020.5.1 0:00        대모산입구역 2번출구 앞    2020.5.1 0:05   \n",
       "...             ...              ...                  ...              ...   \n",
       "20866025  SPB-13688  2020.1.31 23:45               증산3교 앞  2020.1.31 23:59   \n",
       "20866026  SPB-22994  2020.1.31 23:35           명물길 원형무대 앞  2020.1.31 23:59   \n",
       "20866027  SPB-08546  2020.1.31 23:41         보라매 두산위브 건너편  2020.1.31 23:59   \n",
       "20866028  SPB-13247  2020.1.31 23:52           수서역 5번출구 뒤  2020.1.31 23:59   \n",
       "20866029  SPB-06034  2020.1.31 23:55         신설동역 11번출구 뒤  2020.1.31 23:59   \n",
       "\n",
       "                   반납대여소명  이용시간    이용거리  \n",
       "0           방학사거리 (봄마당 앞)   1.0   330.0  \n",
       "3           3호선 매봉역 3번출구앞   2.0     NaN  \n",
       "4           신한은행 응암동 지점 앞   5.0     NaN  \n",
       "5         한신16차아파트 119동 앞   5.0     NaN  \n",
       "6             대청역 1번출구  뒤   5.0     NaN  \n",
       "...                   ...   ...     ...  \n",
       "20866025            증산교 앞  13.0     NaN  \n",
       "20866026      홍은동 정원여중 입구  21.0  3670.0  \n",
       "20866027         봉천역 2번출구  17.0  3140.0  \n",
       "20866028        문정2동 주민센터   6.0   860.0  \n",
       "20866029      동묘앞역 1번출구 뒤   3.0   700.0  \n",
       "\n",
       "[20354012 rows x 7 columns]"
      ]
     },
     "execution_count": 13,
     "metadata": {},
     "output_type": "execute_result"
    }
   ],
   "source": [
    "data"
   ]
  },
  {
   "cell_type": "markdown",
   "metadata": {
    "id": "luNzC5A_aYnV"
   },
   "source": [
    "결측치 채우기\n",
    "(이용시간이 0인 데이터들)"
   ]
  },
  {
   "cell_type": "markdown",
   "metadata": {
    "id": "Xt-6lF3wa_oo"
   },
   "source": [
    "결측치를 제외한 값들로 학습시킨 뒤, 선형 회귀 모형을 사용하여 값을 추측하고 결측치를 채워넣는다."
   ]
  },
  {
   "cell_type": "code",
   "execution_count": 23,
   "metadata": {},
   "outputs": [
    {
     "name": "stdout",
     "output_type": "stream",
     "text": [
      "Collecting scikit-learn\n",
      "  Downloading scikit_learn-1.2.0-cp310-cp310-macosx_12_0_arm64.whl (8.3 MB)\n",
      "\u001b[2K     \u001b[90m━━━━━━━━━━━━━━━━━━━━━━━━━━━━━━━━━━━━━━━━\u001b[0m \u001b[32m8.3/8.3 MB\u001b[0m \u001b[31m6.5 MB/s\u001b[0m eta \u001b[36m0:00:00\u001b[0m00:01\u001b[0m00:01\u001b[0m\n",
      "\u001b[?25hCollecting threadpoolctl>=2.0.0\n",
      "  Downloading threadpoolctl-3.1.0-py3-none-any.whl (14 kB)\n",
      "Requirement already satisfied: scipy>=1.3.2 in /Library/Frameworks/Python.framework/Versions/3.10/lib/python3.10/site-packages (from scikit-learn) (1.9.3)\n",
      "Collecting joblib>=1.1.1\n",
      "  Downloading joblib-1.2.0-py3-none-any.whl (297 kB)\n",
      "\u001b[2K     \u001b[90m━━━━━━━━━━━━━━━━━━━━━━━━━━━━━━━━━━━━━━━\u001b[0m \u001b[32m298.0/298.0 kB\u001b[0m \u001b[31m8.5 MB/s\u001b[0m eta \u001b[36m0:00:00\u001b[0m\n",
      "\u001b[?25hRequirement already satisfied: numpy>=1.17.3 in /Library/Frameworks/Python.framework/Versions/3.10/lib/python3.10/site-packages (from scikit-learn) (1.23.5)\n",
      "Installing collected packages: threadpoolctl, joblib, scikit-learn\n",
      "Successfully installed joblib-1.2.0 scikit-learn-1.2.0 threadpoolctl-3.1.0\n"
     ]
    }
   ],
   "source": [
    "! pip3 install scikit-learn"
   ]
  },
  {
   "cell_type": "code",
   "execution_count": 24,
   "metadata": {
    "id": "ntcna74nbLO9"
   },
   "outputs": [],
   "source": [
    "from sklearn import linear_model\n",
    "from sklearn.model_selection import train_test_split\n",
    "from sklearn.metrics import r2_score"
   ]
  },
  {
   "cell_type": "code",
   "execution_count": 25,
   "metadata": {
    "id": "iOXkJhYSbSWv"
   },
   "outputs": [],
   "source": [
    "lin_reg = linear_model.LinearRegression()"
   ]
  },
  {
   "cell_type": "code",
   "execution_count": 26,
   "metadata": {
    "colab": {
     "base_uri": "https://localhost:8080/",
     "height": 424
    },
    "id": "LqW5PMG59bw1",
    "outputId": "27478035-fe7e-43b1-ccc7-7f7358ff84dc"
   },
   "outputs": [
    {
     "data": {
      "text/html": [
       "<div>\n",
       "<style scoped>\n",
       "    .dataframe tbody tr th:only-of-type {\n",
       "        vertical-align: middle;\n",
       "    }\n",
       "\n",
       "    .dataframe tbody tr th {\n",
       "        vertical-align: top;\n",
       "    }\n",
       "\n",
       "    .dataframe thead th {\n",
       "        text-align: right;\n",
       "    }\n",
       "</style>\n",
       "<table border=\"1\" class=\"dataframe\">\n",
       "  <thead>\n",
       "    <tr style=\"text-align: right;\">\n",
       "      <th></th>\n",
       "      <th>자전거번호</th>\n",
       "      <th>대여일시</th>\n",
       "      <th>대여대여소명</th>\n",
       "      <th>반납일시</th>\n",
       "      <th>반납대여소명</th>\n",
       "      <th>이용시간</th>\n",
       "      <th>이용거리</th>\n",
       "    </tr>\n",
       "  </thead>\n",
       "  <tbody>\n",
       "    <tr>\n",
       "      <th>0</th>\n",
       "      <td>SPB-19866</td>\n",
       "      <td>2020.5.1 0:01</td>\n",
       "      <td>기업은행 앞</td>\n",
       "      <td>2020.5.1 0:03</td>\n",
       "      <td>방학사거리 (봄마당 앞)</td>\n",
       "      <td>1.0</td>\n",
       "      <td>330.0</td>\n",
       "    </tr>\n",
       "    <tr>\n",
       "      <th>3</th>\n",
       "      <td>SPB-13624</td>\n",
       "      <td>2020.5.1 0:01</td>\n",
       "      <td>영동3교 북단(우성캐릭터 앞 보도)</td>\n",
       "      <td>2020.5.1 0:04</td>\n",
       "      <td>3호선 매봉역 3번출구앞</td>\n",
       "      <td>2.0</td>\n",
       "      <td>NaN</td>\n",
       "    </tr>\n",
       "    <tr>\n",
       "      <th>4</th>\n",
       "      <td>SPB-32740</td>\n",
       "      <td>2020.5.1 0:00</td>\n",
       "      <td>녹번역 4번출구</td>\n",
       "      <td>2020.5.1 0:05</td>\n",
       "      <td>신한은행 응암동 지점 앞</td>\n",
       "      <td>5.0</td>\n",
       "      <td>NaN</td>\n",
       "    </tr>\n",
       "    <tr>\n",
       "      <th>5</th>\n",
       "      <td>SPB-32384</td>\n",
       "      <td>2020.5.1 0:00</td>\n",
       "      <td>잠원역 3번-4번 출구사이</td>\n",
       "      <td>2020.5.1 0:05</td>\n",
       "      <td>한신16차아파트 119동 앞</td>\n",
       "      <td>5.0</td>\n",
       "      <td>NaN</td>\n",
       "    </tr>\n",
       "    <tr>\n",
       "      <th>6</th>\n",
       "      <td>SPB-33241</td>\n",
       "      <td>2020.5.1 0:00</td>\n",
       "      <td>대모산입구역 2번출구 앞</td>\n",
       "      <td>2020.5.1 0:05</td>\n",
       "      <td>대청역 1번출구  뒤</td>\n",
       "      <td>5.0</td>\n",
       "      <td>NaN</td>\n",
       "    </tr>\n",
       "    <tr>\n",
       "      <th>...</th>\n",
       "      <td>...</td>\n",
       "      <td>...</td>\n",
       "      <td>...</td>\n",
       "      <td>...</td>\n",
       "      <td>...</td>\n",
       "      <td>...</td>\n",
       "      <td>...</td>\n",
       "    </tr>\n",
       "    <tr>\n",
       "      <th>20866025</th>\n",
       "      <td>SPB-13688</td>\n",
       "      <td>2020.1.31 23:45</td>\n",
       "      <td>증산3교 앞</td>\n",
       "      <td>2020.1.31 23:59</td>\n",
       "      <td>증산교 앞</td>\n",
       "      <td>13.0</td>\n",
       "      <td>NaN</td>\n",
       "    </tr>\n",
       "    <tr>\n",
       "      <th>20866026</th>\n",
       "      <td>SPB-22994</td>\n",
       "      <td>2020.1.31 23:35</td>\n",
       "      <td>명물길 원형무대 앞</td>\n",
       "      <td>2020.1.31 23:59</td>\n",
       "      <td>홍은동 정원여중 입구</td>\n",
       "      <td>21.0</td>\n",
       "      <td>3670.0</td>\n",
       "    </tr>\n",
       "    <tr>\n",
       "      <th>20866027</th>\n",
       "      <td>SPB-08546</td>\n",
       "      <td>2020.1.31 23:41</td>\n",
       "      <td>보라매 두산위브 건너편</td>\n",
       "      <td>2020.1.31 23:59</td>\n",
       "      <td>봉천역 2번출구</td>\n",
       "      <td>17.0</td>\n",
       "      <td>3140.0</td>\n",
       "    </tr>\n",
       "    <tr>\n",
       "      <th>20866028</th>\n",
       "      <td>SPB-13247</td>\n",
       "      <td>2020.1.31 23:52</td>\n",
       "      <td>수서역 5번출구 뒤</td>\n",
       "      <td>2020.1.31 23:59</td>\n",
       "      <td>문정2동 주민센터</td>\n",
       "      <td>6.0</td>\n",
       "      <td>860.0</td>\n",
       "    </tr>\n",
       "    <tr>\n",
       "      <th>20866029</th>\n",
       "      <td>SPB-06034</td>\n",
       "      <td>2020.1.31 23:55</td>\n",
       "      <td>신설동역 11번출구 뒤</td>\n",
       "      <td>2020.1.31 23:59</td>\n",
       "      <td>동묘앞역 1번출구 뒤</td>\n",
       "      <td>3.0</td>\n",
       "      <td>700.0</td>\n",
       "    </tr>\n",
       "  </tbody>\n",
       "</table>\n",
       "<p>20354012 rows × 7 columns</p>\n",
       "</div>"
      ],
      "text/plain": [
       "              자전거번호             대여일시               대여대여소명             반납일시  \\\n",
       "0         SPB-19866    2020.5.1 0:01               기업은행 앞    2020.5.1 0:03   \n",
       "3         SPB-13624    2020.5.1 0:01  영동3교 북단(우성캐릭터 앞 보도)    2020.5.1 0:04   \n",
       "4         SPB-32740    2020.5.1 0:00             녹번역 4번출구    2020.5.1 0:05   \n",
       "5         SPB-32384    2020.5.1 0:00       잠원역 3번-4번 출구사이    2020.5.1 0:05   \n",
       "6         SPB-33241    2020.5.1 0:00        대모산입구역 2번출구 앞    2020.5.1 0:05   \n",
       "...             ...              ...                  ...              ...   \n",
       "20866025  SPB-13688  2020.1.31 23:45               증산3교 앞  2020.1.31 23:59   \n",
       "20866026  SPB-22994  2020.1.31 23:35           명물길 원형무대 앞  2020.1.31 23:59   \n",
       "20866027  SPB-08546  2020.1.31 23:41         보라매 두산위브 건너편  2020.1.31 23:59   \n",
       "20866028  SPB-13247  2020.1.31 23:52           수서역 5번출구 뒤  2020.1.31 23:59   \n",
       "20866029  SPB-06034  2020.1.31 23:55         신설동역 11번출구 뒤  2020.1.31 23:59   \n",
       "\n",
       "                   반납대여소명  이용시간    이용거리  \n",
       "0           방학사거리 (봄마당 앞)   1.0   330.0  \n",
       "3           3호선 매봉역 3번출구앞   2.0     NaN  \n",
       "4           신한은행 응암동 지점 앞   5.0     NaN  \n",
       "5         한신16차아파트 119동 앞   5.0     NaN  \n",
       "6             대청역 1번출구  뒤   5.0     NaN  \n",
       "...                   ...   ...     ...  \n",
       "20866025            증산교 앞  13.0     NaN  \n",
       "20866026      홍은동 정원여중 입구  21.0  3670.0  \n",
       "20866027         봉천역 2번출구  17.0  3140.0  \n",
       "20866028        문정2동 주민센터   6.0   860.0  \n",
       "20866029      동묘앞역 1번출구 뒤   3.0   700.0  \n",
       "\n",
       "[20354012 rows x 7 columns]"
      ]
     },
     "execution_count": 26,
     "metadata": {},
     "output_type": "execute_result"
    }
   ],
   "source": [
    "data"
   ]
  },
  {
   "cell_type": "code",
   "execution_count": 27,
   "metadata": {
    "id": "UjelzJ0XbizW"
   },
   "outputs": [],
   "source": [
    "#데이터에서 이용거리가 NaN인 데이터들을 삭제한다.\n",
    "df = data.dropna(axis=0)"
   ]
  },
  {
   "cell_type": "code",
   "execution_count": 28,
   "metadata": {
    "colab": {
     "base_uri": "https://localhost:8080/",
     "height": 424
    },
    "id": "w6Pqufb-9dUM",
    "outputId": "1b9c9316-cc6e-4a75-e269-0c6c5c1d5789"
   },
   "outputs": [
    {
     "data": {
      "text/html": [
       "<div>\n",
       "<style scoped>\n",
       "    .dataframe tbody tr th:only-of-type {\n",
       "        vertical-align: middle;\n",
       "    }\n",
       "\n",
       "    .dataframe tbody tr th {\n",
       "        vertical-align: top;\n",
       "    }\n",
       "\n",
       "    .dataframe thead th {\n",
       "        text-align: right;\n",
       "    }\n",
       "</style>\n",
       "<table border=\"1\" class=\"dataframe\">\n",
       "  <thead>\n",
       "    <tr style=\"text-align: right;\">\n",
       "      <th></th>\n",
       "      <th>자전거번호</th>\n",
       "      <th>대여일시</th>\n",
       "      <th>대여대여소명</th>\n",
       "      <th>반납일시</th>\n",
       "      <th>반납대여소명</th>\n",
       "      <th>이용시간</th>\n",
       "      <th>이용거리</th>\n",
       "    </tr>\n",
       "  </thead>\n",
       "  <tbody>\n",
       "    <tr>\n",
       "      <th>0</th>\n",
       "      <td>SPB-19866</td>\n",
       "      <td>2020.5.1 0:01</td>\n",
       "      <td>기업은행 앞</td>\n",
       "      <td>2020.5.1 0:03</td>\n",
       "      <td>방학사거리 (봄마당 앞)</td>\n",
       "      <td>1.0</td>\n",
       "      <td>330.0</td>\n",
       "    </tr>\n",
       "    <tr>\n",
       "      <th>12</th>\n",
       "      <td>SPB-19925</td>\n",
       "      <td>2020.5.1 0:01</td>\n",
       "      <td>제기역1번출구</td>\n",
       "      <td>2020.5.1 0:06</td>\n",
       "      <td>시립동부병원 앞 사거리</td>\n",
       "      <td>5.0</td>\n",
       "      <td>530.0</td>\n",
       "    </tr>\n",
       "    <tr>\n",
       "      <th>15</th>\n",
       "      <td>SPB-15500</td>\n",
       "      <td>2020.5.1 0:00</td>\n",
       "      <td>삼성역 8번출구</td>\n",
       "      <td>2020.5.1 0:07</td>\n",
       "      <td>삼성도로공원</td>\n",
       "      <td>6.0</td>\n",
       "      <td>1250.0</td>\n",
       "    </tr>\n",
       "    <tr>\n",
       "      <th>16</th>\n",
       "      <td>SPB-17444</td>\n",
       "      <td>2020.5.1 0:01</td>\n",
       "      <td>제일강산수산입구</td>\n",
       "      <td>2020.5.1 0:07</td>\n",
       "      <td>이디야 커피 수유역점 앞</td>\n",
       "      <td>5.0</td>\n",
       "      <td>940.0</td>\n",
       "    </tr>\n",
       "    <tr>\n",
       "      <th>18</th>\n",
       "      <td>SPB-14887</td>\n",
       "      <td>2020.5.1 0:00</td>\n",
       "      <td>교육개발원입구 교차로</td>\n",
       "      <td>2020.5.1 0:07</td>\n",
       "      <td>국립국악중,고교 정문 맞은편</td>\n",
       "      <td>6.0</td>\n",
       "      <td>1990.0</td>\n",
       "    </tr>\n",
       "    <tr>\n",
       "      <th>...</th>\n",
       "      <td>...</td>\n",
       "      <td>...</td>\n",
       "      <td>...</td>\n",
       "      <td>...</td>\n",
       "      <td>...</td>\n",
       "      <td>...</td>\n",
       "      <td>...</td>\n",
       "    </tr>\n",
       "    <tr>\n",
       "      <th>20866024</th>\n",
       "      <td>SPB-19370</td>\n",
       "      <td>2020.1.31 23:36</td>\n",
       "      <td>서울광장 옆</td>\n",
       "      <td>2020.1.31 23:59</td>\n",
       "      <td>청운초교 앞 삼거리</td>\n",
       "      <td>21.0</td>\n",
       "      <td>2590.0</td>\n",
       "    </tr>\n",
       "    <tr>\n",
       "      <th>20866026</th>\n",
       "      <td>SPB-22994</td>\n",
       "      <td>2020.1.31 23:35</td>\n",
       "      <td>명물길 원형무대 앞</td>\n",
       "      <td>2020.1.31 23:59</td>\n",
       "      <td>홍은동 정원여중 입구</td>\n",
       "      <td>21.0</td>\n",
       "      <td>3670.0</td>\n",
       "    </tr>\n",
       "    <tr>\n",
       "      <th>20866027</th>\n",
       "      <td>SPB-08546</td>\n",
       "      <td>2020.1.31 23:41</td>\n",
       "      <td>보라매 두산위브 건너편</td>\n",
       "      <td>2020.1.31 23:59</td>\n",
       "      <td>봉천역 2번출구</td>\n",
       "      <td>17.0</td>\n",
       "      <td>3140.0</td>\n",
       "    </tr>\n",
       "    <tr>\n",
       "      <th>20866028</th>\n",
       "      <td>SPB-13247</td>\n",
       "      <td>2020.1.31 23:52</td>\n",
       "      <td>수서역 5번출구 뒤</td>\n",
       "      <td>2020.1.31 23:59</td>\n",
       "      <td>문정2동 주민센터</td>\n",
       "      <td>6.0</td>\n",
       "      <td>860.0</td>\n",
       "    </tr>\n",
       "    <tr>\n",
       "      <th>20866029</th>\n",
       "      <td>SPB-06034</td>\n",
       "      <td>2020.1.31 23:55</td>\n",
       "      <td>신설동역 11번출구 뒤</td>\n",
       "      <td>2020.1.31 23:59</td>\n",
       "      <td>동묘앞역 1번출구 뒤</td>\n",
       "      <td>3.0</td>\n",
       "      <td>700.0</td>\n",
       "    </tr>\n",
       "  </tbody>\n",
       "</table>\n",
       "<p>6836415 rows × 7 columns</p>\n",
       "</div>"
      ],
      "text/plain": [
       "              자전거번호             대여일시        대여대여소명             반납일시  \\\n",
       "0         SPB-19866    2020.5.1 0:01        기업은행 앞    2020.5.1 0:03   \n",
       "12        SPB-19925    2020.5.1 0:01       제기역1번출구    2020.5.1 0:06   \n",
       "15        SPB-15500    2020.5.1 0:00      삼성역 8번출구    2020.5.1 0:07   \n",
       "16        SPB-17444    2020.5.1 0:01      제일강산수산입구    2020.5.1 0:07   \n",
       "18        SPB-14887    2020.5.1 0:00   교육개발원입구 교차로    2020.5.1 0:07   \n",
       "...             ...              ...           ...              ...   \n",
       "20866024  SPB-19370  2020.1.31 23:36        서울광장 옆  2020.1.31 23:59   \n",
       "20866026  SPB-22994  2020.1.31 23:35    명물길 원형무대 앞  2020.1.31 23:59   \n",
       "20866027  SPB-08546  2020.1.31 23:41  보라매 두산위브 건너편  2020.1.31 23:59   \n",
       "20866028  SPB-13247  2020.1.31 23:52    수서역 5번출구 뒤  2020.1.31 23:59   \n",
       "20866029  SPB-06034  2020.1.31 23:55  신설동역 11번출구 뒤  2020.1.31 23:59   \n",
       "\n",
       "                   반납대여소명  이용시간    이용거리  \n",
       "0           방학사거리 (봄마당 앞)   1.0   330.0  \n",
       "12           시립동부병원 앞 사거리   5.0   530.0  \n",
       "15                 삼성도로공원   6.0  1250.0  \n",
       "16          이디야 커피 수유역점 앞   5.0   940.0  \n",
       "18        국립국악중,고교 정문 맞은편   6.0  1990.0  \n",
       "...                   ...   ...     ...  \n",
       "20866024       청운초교 앞 삼거리  21.0  2590.0  \n",
       "20866026      홍은동 정원여중 입구  21.0  3670.0  \n",
       "20866027         봉천역 2번출구  17.0  3140.0  \n",
       "20866028        문정2동 주민센터   6.0   860.0  \n",
       "20866029      동묘앞역 1번출구 뒤   3.0   700.0  \n",
       "\n",
       "[6836415 rows x 7 columns]"
      ]
     },
     "execution_count": 28,
     "metadata": {},
     "output_type": "execute_result"
    }
   ],
   "source": [
    "df"
   ]
  },
  {
   "cell_type": "code",
   "execution_count": 29,
   "metadata": {
    "id": "qIRDiewocWmn"
   },
   "outputs": [],
   "source": [
    "#그 데이터들로 train, test set을 나눈다.\n",
    "\n",
    "X = df[['이용시간']]\n",
    "y = df[['이용거리']]\n",
    "X_train, X_test, y_train, y_test = train_test_split(X,y,test_size=0.2,shuffle=True,random_state=1004)"
   ]
  },
  {
   "cell_type": "code",
   "execution_count": 30,
   "metadata": {
    "colab": {
     "base_uri": "https://localhost:8080/"
    },
    "id": "jwcCnwYj2yW2",
    "outputId": "3a9bad46-fdf2-440b-e9c1-131630818613"
   },
   "outputs": [
    {
     "name": "stdout",
     "output_type": "stream",
     "text": [
      "(5469132, 1)\n",
      "(1367283, 1)\n"
     ]
    }
   ],
   "source": [
    "print(X_train.shape)\n",
    "print(X_test.shape)\n"
   ]
  },
  {
   "cell_type": "code",
   "execution_count": 31,
   "metadata": {
    "id": "W8lSIoMtgVID"
   },
   "outputs": [],
   "source": [
    "lin_reg_model = lin_reg.fit(X_train,y_train)"
   ]
  },
  {
   "cell_type": "code",
   "execution_count": 32,
   "metadata": {
    "colab": {
     "base_uri": "https://localhost:8080/"
    },
    "id": "D6YQnxyHgdqm",
    "outputId": "f4b5f2a5-391e-4afb-e76f-fe2346abeaaa"
   },
   "outputs": [
    {
     "name": "stdout",
     "output_type": "stream",
     "text": [
      "0.400349577552116\n"
     ]
    }
   ],
   "source": [
    "y_pred = lin_reg_model.predict(X_test)\n",
    "print(r2_score(y_test,y_pred))\n",
    "\n",
    "#결정계수가 대략 0.40 정도 나온다."
   ]
  },
  {
   "cell_type": "code",
   "execution_count": 33,
   "metadata": {
    "colab": {
     "base_uri": "https://localhost:8080/"
    },
    "id": "nrvDWP9R5bzT",
    "outputId": "ba3bc559-d70e-4251-ea1a-e6a8bd2e78ec"
   },
   "outputs": [
    {
     "data": {
      "text/plain": [
       "array([[ 898.03920176],\n",
       "       [1016.48684746],\n",
       "       [1371.82978458],\n",
       "       ...,\n",
       "       [2793.20153303],\n",
       "       [1490.27743028],\n",
       "       [1134.93449317]])"
      ]
     },
     "execution_count": 33,
     "metadata": {},
     "output_type": "execute_result"
    }
   ],
   "source": [
    "# data['이용시간']을 모델에 넣고 all_pred에 담는다.\n",
    "\n",
    "all_pred = lin_reg_model.predict(data.loc[:,['이용시간']])\n",
    "all_pred"
   ]
  },
  {
   "cell_type": "code",
   "execution_count": 34,
   "metadata": {
    "id": "BFCfwHb76xiz"
   },
   "outputs": [],
   "source": [
    "# null 값이 발견되면 그 자리에 예측값으로 대체한다.\n",
    "\n",
    "data['이용거리']= np.where(data['이용거리'].isnull(),\n",
    "                       pd.Series(all_pred.flatten()),\n",
    "                       data['이용거리'])"
   ]
  },
  {
   "cell_type": "code",
   "execution_count": 35,
   "metadata": {
    "colab": {
     "base_uri": "https://localhost:8080/"
    },
    "id": "khL_f5ST_Q-6",
    "outputId": "f112d8f5-088f-48ad-a136-7656e13a7527"
   },
   "outputs": [
    {
     "data": {
      "text/plain": [
       "자전거번호     0\n",
       "대여일시      0\n",
       "대여대여소명    0\n",
       "반납일시      0\n",
       "반납대여소명    0\n",
       "이용시간      0\n",
       "이용거리      0\n",
       "dtype: int64"
      ]
     },
     "execution_count": 35,
     "metadata": {},
     "output_type": "execute_result"
    }
   ],
   "source": [
    "data.isnull().sum()"
   ]
  },
  {
   "cell_type": "code",
   "execution_count": 36,
   "metadata": {
    "colab": {
     "base_uri": "https://localhost:8080/",
     "height": 424
    },
    "id": "eQ7P-9hT_Tcg",
    "outputId": "a6138071-0264-46a0-f149-34f72c78d8ef"
   },
   "outputs": [
    {
     "data": {
      "text/html": [
       "<div>\n",
       "<style scoped>\n",
       "    .dataframe tbody tr th:only-of-type {\n",
       "        vertical-align: middle;\n",
       "    }\n",
       "\n",
       "    .dataframe tbody tr th {\n",
       "        vertical-align: top;\n",
       "    }\n",
       "\n",
       "    .dataframe thead th {\n",
       "        text-align: right;\n",
       "    }\n",
       "</style>\n",
       "<table border=\"1\" class=\"dataframe\">\n",
       "  <thead>\n",
       "    <tr style=\"text-align: right;\">\n",
       "      <th></th>\n",
       "      <th>자전거번호</th>\n",
       "      <th>대여일시</th>\n",
       "      <th>대여대여소명</th>\n",
       "      <th>반납일시</th>\n",
       "      <th>반납대여소명</th>\n",
       "      <th>이용시간</th>\n",
       "      <th>이용거리</th>\n",
       "    </tr>\n",
       "  </thead>\n",
       "  <tbody>\n",
       "    <tr>\n",
       "      <th>3</th>\n",
       "      <td>SPB-13624</td>\n",
       "      <td>2020.5.1 0:01</td>\n",
       "      <td>영동3교 북단(우성캐릭터 앞 보도)</td>\n",
       "      <td>2020.5.1 0:04</td>\n",
       "      <td>3호선 매봉역 3번출구앞</td>\n",
       "      <td>2.0</td>\n",
       "      <td>1016.486847</td>\n",
       "    </tr>\n",
       "    <tr>\n",
       "      <th>9</th>\n",
       "      <td>SPB-32335</td>\n",
       "      <td>2020.5.1 0:04</td>\n",
       "      <td>CJ 드림시티</td>\n",
       "      <td>2020.5.1 0:06</td>\n",
       "      <td>이마트 은평점</td>\n",
       "      <td>2.0</td>\n",
       "      <td>1016.486847</td>\n",
       "    </tr>\n",
       "    <tr>\n",
       "      <th>82</th>\n",
       "      <td>SPB-17842</td>\n",
       "      <td>2020.5.1 0:09</td>\n",
       "      <td>동방1교</td>\n",
       "      <td>2020.5.1 0:12</td>\n",
       "      <td>도림천 신화교</td>\n",
       "      <td>2.0</td>\n",
       "      <td>600.000000</td>\n",
       "    </tr>\n",
       "    <tr>\n",
       "      <th>177</th>\n",
       "      <td>SPB-20055</td>\n",
       "      <td>2020.5.1 0:14</td>\n",
       "      <td>망우역 1번출구</td>\n",
       "      <td>2020.5.1 0:17</td>\n",
       "      <td>상봉터미널2</td>\n",
       "      <td>2.0</td>\n",
       "      <td>230.000000</td>\n",
       "    </tr>\n",
       "    <tr>\n",
       "      <th>196</th>\n",
       "      <td>SPB-03816</td>\n",
       "      <td>2020.5.1 0:15</td>\n",
       "      <td>서강대 후문 옆</td>\n",
       "      <td>2020.5.1 0:18</td>\n",
       "      <td>대흥역 1번출구</td>\n",
       "      <td>2.0</td>\n",
       "      <td>440.000000</td>\n",
       "    </tr>\n",
       "    <tr>\n",
       "      <th>...</th>\n",
       "      <td>...</td>\n",
       "      <td>...</td>\n",
       "      <td>...</td>\n",
       "      <td>...</td>\n",
       "      <td>...</td>\n",
       "      <td>...</td>\n",
       "      <td>...</td>\n",
       "    </tr>\n",
       "    <tr>\n",
       "      <th>20865807</th>\n",
       "      <td>SPB-13627</td>\n",
       "      <td>2020.1.31 23:45</td>\n",
       "      <td>양평동6차현대아파트 앞</td>\n",
       "      <td>2020.1.31 23:48</td>\n",
       "      <td>양평1 보행육교 앞</td>\n",
       "      <td>2.0</td>\n",
       "      <td>600.000000</td>\n",
       "    </tr>\n",
       "    <tr>\n",
       "      <th>20865839</th>\n",
       "      <td>SPB-23714</td>\n",
       "      <td>2020.1.31 23:47</td>\n",
       "      <td>월곡역 3번출구</td>\n",
       "      <td>2020.1.31 23:49</td>\n",
       "      <td>생명의 전화 종합복지관 앞 교차로</td>\n",
       "      <td>2.0</td>\n",
       "      <td>290.000000</td>\n",
       "    </tr>\n",
       "    <tr>\n",
       "      <th>20865848</th>\n",
       "      <td>SPB-23893</td>\n",
       "      <td>2020.1.31 23:46</td>\n",
       "      <td>중화역 2번출구</td>\n",
       "      <td>2020.1.31 23:49</td>\n",
       "      <td>장안중학교</td>\n",
       "      <td>2.0</td>\n",
       "      <td>260.000000</td>\n",
       "    </tr>\n",
       "    <tr>\n",
       "      <th>20865958</th>\n",
       "      <td>SPB-19329</td>\n",
       "      <td>2020.1.31 23:53</td>\n",
       "      <td>중랑전화국 교차로</td>\n",
       "      <td>2020.1.31 23:56</td>\n",
       "      <td>하나은행 면목지점</td>\n",
       "      <td>2.0</td>\n",
       "      <td>570.000000</td>\n",
       "    </tr>\n",
       "    <tr>\n",
       "      <th>20865967</th>\n",
       "      <td>SPB-12917</td>\n",
       "      <td>2020.1.31 23:53</td>\n",
       "      <td>에이스에이존빌딩</td>\n",
       "      <td>2020.1.31 23:56</td>\n",
       "      <td>봉천역 2번출구</td>\n",
       "      <td>2.0</td>\n",
       "      <td>450.000000</td>\n",
       "    </tr>\n",
       "  </tbody>\n",
       "</table>\n",
       "<p>213150 rows × 7 columns</p>\n",
       "</div>"
      ],
      "text/plain": [
       "              자전거번호             대여일시               대여대여소명             반납일시  \\\n",
       "3         SPB-13624    2020.5.1 0:01  영동3교 북단(우성캐릭터 앞 보도)    2020.5.1 0:04   \n",
       "9         SPB-32335    2020.5.1 0:04              CJ 드림시티    2020.5.1 0:06   \n",
       "82        SPB-17842    2020.5.1 0:09                 동방1교    2020.5.1 0:12   \n",
       "177       SPB-20055    2020.5.1 0:14             망우역 1번출구    2020.5.1 0:17   \n",
       "196       SPB-03816    2020.5.1 0:15             서강대 후문 옆    2020.5.1 0:18   \n",
       "...             ...              ...                  ...              ...   \n",
       "20865807  SPB-13627  2020.1.31 23:45         양평동6차현대아파트 앞  2020.1.31 23:48   \n",
       "20865839  SPB-23714  2020.1.31 23:47             월곡역 3번출구  2020.1.31 23:49   \n",
       "20865848  SPB-23893  2020.1.31 23:46             중화역 2번출구  2020.1.31 23:49   \n",
       "20865958  SPB-19329  2020.1.31 23:53            중랑전화국 교차로  2020.1.31 23:56   \n",
       "20865967  SPB-12917  2020.1.31 23:53             에이스에이존빌딩  2020.1.31 23:56   \n",
       "\n",
       "                      반납대여소명  이용시간         이용거리  \n",
       "3              3호선 매봉역 3번출구앞   2.0  1016.486847  \n",
       "9                    이마트 은평점   2.0  1016.486847  \n",
       "82                   도림천 신화교   2.0   600.000000  \n",
       "177                   상봉터미널2   2.0   230.000000  \n",
       "196                 대흥역 1번출구   2.0   440.000000  \n",
       "...                      ...   ...          ...  \n",
       "20865807          양평1 보행육교 앞   2.0   600.000000  \n",
       "20865839  생명의 전화 종합복지관 앞 교차로   2.0   290.000000  \n",
       "20865848               장안중학교   2.0   260.000000  \n",
       "20865958           하나은행 면목지점   2.0   570.000000  \n",
       "20865967            봉천역 2번출구   2.0   450.000000  \n",
       "\n",
       "[213150 rows x 7 columns]"
      ]
     },
     "execution_count": 36,
     "metadata": {},
     "output_type": "execute_result"
    }
   ],
   "source": [
    "data[data['이용시간']==2]"
   ]
  },
  {
   "cell_type": "code",
   "execution_count": 37,
   "metadata": {
    "colab": {
     "base_uri": "https://localhost:8080/",
     "height": 342
    },
    "id": "urtCtRylCK3u",
    "outputId": "b944271a-6617-476e-9cac-290ff5a40a42"
   },
   "outputs": [],
   "source": [
    "data.drop(['대여대여소명','반납대여소명','반납일시'],axis=1,inplace=True)"
   ]
  },
  {
   "cell_type": "code",
   "execution_count": 38,
   "metadata": {
    "colab": {
     "base_uri": "https://localhost:8080/",
     "height": 424
    },
    "id": "K3dwNEPCEAv9",
    "outputId": "bb8df8e8-7135-4f2a-c12b-a761885cbe83"
   },
   "outputs": [
    {
     "data": {
      "text/html": [
       "<div>\n",
       "<style scoped>\n",
       "    .dataframe tbody tr th:only-of-type {\n",
       "        vertical-align: middle;\n",
       "    }\n",
       "\n",
       "    .dataframe tbody tr th {\n",
       "        vertical-align: top;\n",
       "    }\n",
       "\n",
       "    .dataframe thead th {\n",
       "        text-align: right;\n",
       "    }\n",
       "</style>\n",
       "<table border=\"1\" class=\"dataframe\">\n",
       "  <thead>\n",
       "    <tr style=\"text-align: right;\">\n",
       "      <th></th>\n",
       "      <th>자전거번호</th>\n",
       "      <th>대여일시</th>\n",
       "      <th>이용시간</th>\n",
       "      <th>이용거리</th>\n",
       "    </tr>\n",
       "  </thead>\n",
       "  <tbody>\n",
       "    <tr>\n",
       "      <th>0</th>\n",
       "      <td>SPB-19866</td>\n",
       "      <td>2020.5.1 0:01</td>\n",
       "      <td>1.0</td>\n",
       "      <td>330.000000</td>\n",
       "    </tr>\n",
       "    <tr>\n",
       "      <th>3</th>\n",
       "      <td>SPB-13624</td>\n",
       "      <td>2020.5.1 0:01</td>\n",
       "      <td>2.0</td>\n",
       "      <td>1016.486847</td>\n",
       "    </tr>\n",
       "    <tr>\n",
       "      <th>4</th>\n",
       "      <td>SPB-32740</td>\n",
       "      <td>2020.5.1 0:00</td>\n",
       "      <td>5.0</td>\n",
       "      <td>1371.829785</td>\n",
       "    </tr>\n",
       "    <tr>\n",
       "      <th>5</th>\n",
       "      <td>SPB-32384</td>\n",
       "      <td>2020.5.1 0:00</td>\n",
       "      <td>5.0</td>\n",
       "      <td>1371.829785</td>\n",
       "    </tr>\n",
       "    <tr>\n",
       "      <th>6</th>\n",
       "      <td>SPB-33241</td>\n",
       "      <td>2020.5.1 0:00</td>\n",
       "      <td>5.0</td>\n",
       "      <td>1371.829785</td>\n",
       "    </tr>\n",
       "    <tr>\n",
       "      <th>...</th>\n",
       "      <td>...</td>\n",
       "      <td>...</td>\n",
       "      <td>...</td>\n",
       "      <td>...</td>\n",
       "    </tr>\n",
       "    <tr>\n",
       "      <th>20866025</th>\n",
       "      <td>SPB-13688</td>\n",
       "      <td>2020.1.31 23:45</td>\n",
       "      <td>13.0</td>\n",
       "      <td>2319.410950</td>\n",
       "    </tr>\n",
       "    <tr>\n",
       "      <th>20866026</th>\n",
       "      <td>SPB-22994</td>\n",
       "      <td>2020.1.31 23:35</td>\n",
       "      <td>21.0</td>\n",
       "      <td>3670.000000</td>\n",
       "    </tr>\n",
       "    <tr>\n",
       "      <th>20866027</th>\n",
       "      <td>SPB-08546</td>\n",
       "      <td>2020.1.31 23:41</td>\n",
       "      <td>17.0</td>\n",
       "      <td>3140.000000</td>\n",
       "    </tr>\n",
       "    <tr>\n",
       "      <th>20866028</th>\n",
       "      <td>SPB-13247</td>\n",
       "      <td>2020.1.31 23:52</td>\n",
       "      <td>6.0</td>\n",
       "      <td>860.000000</td>\n",
       "    </tr>\n",
       "    <tr>\n",
       "      <th>20866029</th>\n",
       "      <td>SPB-06034</td>\n",
       "      <td>2020.1.31 23:55</td>\n",
       "      <td>3.0</td>\n",
       "      <td>700.000000</td>\n",
       "    </tr>\n",
       "  </tbody>\n",
       "</table>\n",
       "<p>20354012 rows × 4 columns</p>\n",
       "</div>"
      ],
      "text/plain": [
       "              자전거번호             대여일시  이용시간         이용거리\n",
       "0         SPB-19866    2020.5.1 0:01   1.0   330.000000\n",
       "3         SPB-13624    2020.5.1 0:01   2.0  1016.486847\n",
       "4         SPB-32740    2020.5.1 0:00   5.0  1371.829785\n",
       "5         SPB-32384    2020.5.1 0:00   5.0  1371.829785\n",
       "6         SPB-33241    2020.5.1 0:00   5.0  1371.829785\n",
       "...             ...              ...   ...          ...\n",
       "20866025  SPB-13688  2020.1.31 23:45  13.0  2319.410950\n",
       "20866026  SPB-22994  2020.1.31 23:35  21.0  3670.000000\n",
       "20866027  SPB-08546  2020.1.31 23:41  17.0  3140.000000\n",
       "20866028  SPB-13247  2020.1.31 23:52   6.0   860.000000\n",
       "20866029  SPB-06034  2020.1.31 23:55   3.0   700.000000\n",
       "\n",
       "[20354012 rows x 4 columns]"
      ]
     },
     "execution_count": 38,
     "metadata": {},
     "output_type": "execute_result"
    }
   ],
   "source": [
    "data"
   ]
  },
  {
   "cell_type": "code",
   "execution_count": 39,
   "metadata": {},
   "outputs": [],
   "source": [
    "data[\"대여일시\"]=pd.to_datetime(data['대여일시'].str.strip(), format=\"%Y-%m-%d %H:%M\", errors='coerce')"
   ]
  },
  {
   "cell_type": "code",
   "execution_count": 40,
   "metadata": {},
   "outputs": [
    {
     "data": {
      "text/html": [
       "<div>\n",
       "<style scoped>\n",
       "    .dataframe tbody tr th:only-of-type {\n",
       "        vertical-align: middle;\n",
       "    }\n",
       "\n",
       "    .dataframe tbody tr th {\n",
       "        vertical-align: top;\n",
       "    }\n",
       "\n",
       "    .dataframe thead th {\n",
       "        text-align: right;\n",
       "    }\n",
       "</style>\n",
       "<table border=\"1\" class=\"dataframe\">\n",
       "  <thead>\n",
       "    <tr style=\"text-align: right;\">\n",
       "      <th></th>\n",
       "      <th>자전거번호</th>\n",
       "      <th>대여일시</th>\n",
       "      <th>이용시간</th>\n",
       "      <th>이용거리</th>\n",
       "    </tr>\n",
       "  </thead>\n",
       "  <tbody>\n",
       "    <tr>\n",
       "      <th>20100750</th>\n",
       "      <td>SPB-16682</td>\n",
       "      <td>2020-01-01 00:00:00</td>\n",
       "      <td>9.0</td>\n",
       "      <td>1760.000000</td>\n",
       "    </tr>\n",
       "    <tr>\n",
       "      <th>20100806</th>\n",
       "      <td>SPB-10534</td>\n",
       "      <td>2020-01-01 00:00:00</td>\n",
       "      <td>20.0</td>\n",
       "      <td>3200.000000</td>\n",
       "    </tr>\n",
       "    <tr>\n",
       "      <th>20100783</th>\n",
       "      <td>SPB-13778</td>\n",
       "      <td>2020-01-01 00:01:00</td>\n",
       "      <td>15.0</td>\n",
       "      <td>2556.306242</td>\n",
       "    </tr>\n",
       "    <tr>\n",
       "      <th>20100754</th>\n",
       "      <td>SPB-08263</td>\n",
       "      <td>2020-01-01 00:01:00</td>\n",
       "      <td>10.0</td>\n",
       "      <td>1720.000000</td>\n",
       "    </tr>\n",
       "    <tr>\n",
       "      <th>20102253</th>\n",
       "      <td>SPB-18109</td>\n",
       "      <td>2020-01-01 00:01:00</td>\n",
       "      <td>142.0</td>\n",
       "      <td>250.000000</td>\n",
       "    </tr>\n",
       "    <tr>\n",
       "      <th>...</th>\n",
       "      <td>...</td>\n",
       "      <td>...</td>\n",
       "      <td>...</td>\n",
       "      <td>...</td>\n",
       "    </tr>\n",
       "    <tr>\n",
       "      <th>16220747</th>\n",
       "      <td>SPB-51158</td>\n",
       "      <td>2020-12-31 23:59:06</td>\n",
       "      <td>8.0</td>\n",
       "      <td>1727.172722</td>\n",
       "    </tr>\n",
       "    <tr>\n",
       "      <th>16220736</th>\n",
       "      <td>SPB-37040</td>\n",
       "      <td>2020-12-31 23:59:20</td>\n",
       "      <td>4.0</td>\n",
       "      <td>667.170000</td>\n",
       "    </tr>\n",
       "    <tr>\n",
       "      <th>16220822</th>\n",
       "      <td>SPB-50200</td>\n",
       "      <td>2020-12-31 23:59:45</td>\n",
       "      <td>35.0</td>\n",
       "      <td>4925.259156</td>\n",
       "    </tr>\n",
       "    <tr>\n",
       "      <th>16220800</th>\n",
       "      <td>SPB-30203</td>\n",
       "      <td>2020-12-31 23:59:49</td>\n",
       "      <td>23.0</td>\n",
       "      <td>3981.810000</td>\n",
       "    </tr>\n",
       "    <tr>\n",
       "      <th>16220750</th>\n",
       "      <td>SPB-33005</td>\n",
       "      <td>2020-12-31 23:59:51</td>\n",
       "      <td>8.0</td>\n",
       "      <td>1413.260000</td>\n",
       "    </tr>\n",
       "  </tbody>\n",
       "</table>\n",
       "<p>20354012 rows × 4 columns</p>\n",
       "</div>"
      ],
      "text/plain": [
       "              자전거번호                대여일시   이용시간         이용거리\n",
       "20100750  SPB-16682 2020-01-01 00:00:00    9.0  1760.000000\n",
       "20100806  SPB-10534 2020-01-01 00:00:00   20.0  3200.000000\n",
       "20100783  SPB-13778 2020-01-01 00:01:00   15.0  2556.306242\n",
       "20100754  SPB-08263 2020-01-01 00:01:00   10.0  1720.000000\n",
       "20102253  SPB-18109 2020-01-01 00:01:00  142.0   250.000000\n",
       "...             ...                 ...    ...          ...\n",
       "16220747  SPB-51158 2020-12-31 23:59:06    8.0  1727.172722\n",
       "16220736  SPB-37040 2020-12-31 23:59:20    4.0   667.170000\n",
       "16220822  SPB-50200 2020-12-31 23:59:45   35.0  4925.259156\n",
       "16220800  SPB-30203 2020-12-31 23:59:49   23.0  3981.810000\n",
       "16220750  SPB-33005 2020-12-31 23:59:51    8.0  1413.260000\n",
       "\n",
       "[20354012 rows x 4 columns]"
      ]
     },
     "execution_count": 40,
     "metadata": {},
     "output_type": "execute_result"
    }
   ],
   "source": [
    "data.sort_values(\"대여일시\")"
   ]
  },
  {
   "cell_type": "code",
   "execution_count": 41,
   "metadata": {},
   "outputs": [
    {
     "data": {
      "text/plain": [
       "자전거번호    0\n",
       "대여일시     0\n",
       "이용시간     0\n",
       "이용거리     0\n",
       "dtype: int64"
      ]
     },
     "execution_count": 41,
     "metadata": {},
     "output_type": "execute_result"
    }
   ],
   "source": [
    "data.isnull().sum()"
   ]
  },
  {
   "cell_type": "code",
   "execution_count": 42,
   "metadata": {},
   "outputs": [],
   "source": [
    "data[\"year\"] = data[\"대여일시\"].dt.year\n",
    "data[\"month\"] = data[\"대여일시\"].dt.month"
   ]
  },
  {
   "cell_type": "code",
   "execution_count": 45,
   "metadata": {},
   "outputs": [],
   "source": [
    "data.drop(\"대여일시\", axis = 1, inplace=True)"
   ]
  },
  {
   "cell_type": "code",
   "execution_count": 47,
   "metadata": {},
   "outputs": [
    {
     "name": "stdout",
     "output_type": "stream",
     "text": [
      "<class 'pandas.core.frame.DataFrame'>\n",
      "Int64Index: 20354012 entries, 0 to 20866029\n",
      "Data columns (total 5 columns):\n",
      " #   Column  Dtype  \n",
      "---  ------  -----  \n",
      " 0   자전거번호   object \n",
      " 1   이용시간    float64\n",
      " 2   이용거리    float64\n",
      " 3   year    int64  \n",
      " 4   month   int64  \n",
      "dtypes: float64(2), int64(2), object(1)\n",
      "memory usage: 1.4+ GB\n"
     ]
    }
   ],
   "source": [
    "data.info()"
   ]
  },
  {
   "cell_type": "code",
   "execution_count": 49,
   "metadata": {},
   "outputs": [
    {
     "data": {
      "text/plain": [
       "자전거번호    0\n",
       "이용시간     0\n",
       "이용거리     0\n",
       "year     0\n",
       "month    0\n",
       "dtype: int64"
      ]
     },
     "execution_count": 49,
     "metadata": {},
     "output_type": "execute_result"
    }
   ],
   "source": [
    "data.isnull().sum()"
   ]
  },
  {
   "cell_type": "code",
   "execution_count": 51,
   "metadata": {},
   "outputs": [
    {
     "data": {
      "text/html": [
       "<div>\n",
       "<style scoped>\n",
       "    .dataframe tbody tr th:only-of-type {\n",
       "        vertical-align: middle;\n",
       "    }\n",
       "\n",
       "    .dataframe tbody tr th {\n",
       "        vertical-align: top;\n",
       "    }\n",
       "\n",
       "    .dataframe thead th {\n",
       "        text-align: right;\n",
       "    }\n",
       "</style>\n",
       "<table border=\"1\" class=\"dataframe\">\n",
       "  <thead>\n",
       "    <tr style=\"text-align: right;\">\n",
       "      <th></th>\n",
       "      <th>자전거번호</th>\n",
       "      <th>이용시간</th>\n",
       "      <th>이용거리</th>\n",
       "      <th>year</th>\n",
       "      <th>month</th>\n",
       "    </tr>\n",
       "  </thead>\n",
       "  <tbody>\n",
       "    <tr>\n",
       "      <th>0</th>\n",
       "      <td>SPB-19866</td>\n",
       "      <td>1.0</td>\n",
       "      <td>330.000000</td>\n",
       "      <td>2020</td>\n",
       "      <td>5</td>\n",
       "    </tr>\n",
       "    <tr>\n",
       "      <th>3</th>\n",
       "      <td>SPB-13624</td>\n",
       "      <td>2.0</td>\n",
       "      <td>1016.486847</td>\n",
       "      <td>2020</td>\n",
       "      <td>5</td>\n",
       "    </tr>\n",
       "    <tr>\n",
       "      <th>4</th>\n",
       "      <td>SPB-32740</td>\n",
       "      <td>5.0</td>\n",
       "      <td>1371.829785</td>\n",
       "      <td>2020</td>\n",
       "      <td>5</td>\n",
       "    </tr>\n",
       "    <tr>\n",
       "      <th>5</th>\n",
       "      <td>SPB-32384</td>\n",
       "      <td>5.0</td>\n",
       "      <td>1371.829785</td>\n",
       "      <td>2020</td>\n",
       "      <td>5</td>\n",
       "    </tr>\n",
       "    <tr>\n",
       "      <th>6</th>\n",
       "      <td>SPB-33241</td>\n",
       "      <td>5.0</td>\n",
       "      <td>1371.829785</td>\n",
       "      <td>2020</td>\n",
       "      <td>5</td>\n",
       "    </tr>\n",
       "    <tr>\n",
       "      <th>...</th>\n",
       "      <td>...</td>\n",
       "      <td>...</td>\n",
       "      <td>...</td>\n",
       "      <td>...</td>\n",
       "      <td>...</td>\n",
       "    </tr>\n",
       "    <tr>\n",
       "      <th>20866025</th>\n",
       "      <td>SPB-13688</td>\n",
       "      <td>13.0</td>\n",
       "      <td>2319.410950</td>\n",
       "      <td>2020</td>\n",
       "      <td>1</td>\n",
       "    </tr>\n",
       "    <tr>\n",
       "      <th>20866026</th>\n",
       "      <td>SPB-22994</td>\n",
       "      <td>21.0</td>\n",
       "      <td>3670.000000</td>\n",
       "      <td>2020</td>\n",
       "      <td>1</td>\n",
       "    </tr>\n",
       "    <tr>\n",
       "      <th>20866027</th>\n",
       "      <td>SPB-08546</td>\n",
       "      <td>17.0</td>\n",
       "      <td>3140.000000</td>\n",
       "      <td>2020</td>\n",
       "      <td>1</td>\n",
       "    </tr>\n",
       "    <tr>\n",
       "      <th>20866028</th>\n",
       "      <td>SPB-13247</td>\n",
       "      <td>6.0</td>\n",
       "      <td>860.000000</td>\n",
       "      <td>2020</td>\n",
       "      <td>1</td>\n",
       "    </tr>\n",
       "    <tr>\n",
       "      <th>20866029</th>\n",
       "      <td>SPB-06034</td>\n",
       "      <td>3.0</td>\n",
       "      <td>700.000000</td>\n",
       "      <td>2020</td>\n",
       "      <td>1</td>\n",
       "    </tr>\n",
       "  </tbody>\n",
       "</table>\n",
       "<p>20354012 rows × 5 columns</p>\n",
       "</div>"
      ],
      "text/plain": [
       "              자전거번호  이용시간         이용거리  year  month\n",
       "0         SPB-19866   1.0   330.000000  2020      5\n",
       "3         SPB-13624   2.0  1016.486847  2020      5\n",
       "4         SPB-32740   5.0  1371.829785  2020      5\n",
       "5         SPB-32384   5.0  1371.829785  2020      5\n",
       "6         SPB-33241   5.0  1371.829785  2020      5\n",
       "...             ...   ...          ...   ...    ...\n",
       "20866025  SPB-13688  13.0  2319.410950  2020      1\n",
       "20866026  SPB-22994  21.0  3670.000000  2020      1\n",
       "20866027  SPB-08546  17.0  3140.000000  2020      1\n",
       "20866028  SPB-13247   6.0   860.000000  2020      1\n",
       "20866029  SPB-06034   3.0   700.000000  2020      1\n",
       "\n",
       "[20354012 rows x 5 columns]"
      ]
     },
     "execution_count": 51,
     "metadata": {},
     "output_type": "execute_result"
    }
   ],
   "source": [
    "data"
   ]
  },
  {
   "cell_type": "code",
   "execution_count": 50,
   "metadata": {
    "id": "cr4r3YTQEBgS"
   },
   "outputs": [],
   "source": [
    "data.to_csv(\"data2020_pre.csv\")\n"
   ]
  },
  {
   "cell_type": "code",
   "execution_count": null,
   "metadata": {
    "id": "QXztxHzvEPj6"
   },
   "outputs": [],
   "source": []
  }
 ],
 "metadata": {
  "colab": {
   "provenance": []
  },
  "kernelspec": {
   "display_name": "Python 3 (ipykernel)",
   "language": "python",
   "name": "python3"
  },
  "language_info": {
   "codemirror_mode": {
    "name": "ipython",
    "version": 3
   },
   "file_extension": ".py",
   "mimetype": "text/x-python",
   "name": "python",
   "nbconvert_exporter": "python",
   "pygments_lexer": "ipython3",
   "version": "3.10.7"
  }
 },
 "nbformat": 4,
 "nbformat_minor": 1
}
